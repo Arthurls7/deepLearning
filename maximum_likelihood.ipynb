{
 "cells": [
  {
   "cell_type": "markdown",
   "id": "34a33f7f",
   "metadata": {},
   "source": [
    "<html>\n",
    "<body>\n",
    "    <div class=\"image-container\" style=\"display: flex;\">\n",
    "        <img src=\"https://ufal.br/ufal/resolveuid/5ba5577fc45f41f48a6e8e9311488b28\" alt=\"Image 1\" style=\"width: 15%; height: auto;\">\n",
    "        <img src=\"https://ic.ufal.br/site-logo\" alt=\"Image 2\" style=\"width: 15%; height: auto;\">\n",
    "    </div>\n",
    "   <h1 align=\"center\"> Redes Neurais e Aprendizado Profundo - 2023.1 </h1>\n",
    "   <h2 align=\"center\"> Professor: Tiago Figueiredo Vieira </h2>\n",
    "</body>\n",
    "</html>"
   ]
  },
  {
   "cell_type": "markdown",
   "id": "bb6e3b98",
   "metadata": {},
   "source": [
    "---"
   ]
  },
  {
   "cell_type": "markdown",
   "id": "8c3f86b2",
   "metadata": {
    "deletable": false,
    "editable": false,
    "nbgrader": {
     "cell_type": "markdown",
     "checksum": "22736555e9b5ea1020409269a6a1a328",
     "grade": false,
     "grade_id": "cell-a3c2417006fbc676",
     "locked": true,
     "points": 5,
     "schema_version": 3,
     "solution": false,
     "task": true
    }
   },
   "source": [
    "# Estimativa da máxima verossimilhança\n",
    "\n",
    "Implemente o algoritmo da estimativa da máxima verossimilhança para encontrar os parâmetros da distribuição que melhor descreve a função densidade de probabilidade que deu origem aos dados disponíveis na base de dados em anexo ```x_train.npy``` usando o Tensorflow.\n",
    "\n",
    "Utilizar os nomes **mean** e **sigma** para as variáveis de **média** e **desvio padrão** respectivamente.\n",
    "\n",
    "**Gere a resposta final como um array do numpy(np.array()) não como uma lista.**"
   ]
  },
  {
   "cell_type": "code",
   "execution_count": 1,
   "id": "50bb03db",
   "metadata": {
    "deletable": false,
    "nbgrader": {
     "cell_type": "code",
     "checksum": "0ad60eb8de52ba44c033b6f9bdbc9cf8",
     "grade": false,
     "grade_id": "cell-bea909348e43a7f4",
     "locked": false,
     "schema_version": 3,
     "solution": true,
     "task": false
    }
   },
   "outputs": [
    {
     "name": "stdout",
     "output_type": "stream",
     "text": [
      "Model train:\n",
      "Epoch 0, Loss: 4109.0698, Mean: 100.0692, Std: 14.7427\n",
      "Epoch 10, Loss: 4109.0698, Mean: 100.0764, Std: 14.7358\n",
      "Epoch 20, Loss: 4109.0693, Mean: 100.0757, Std: 14.7361\n",
      "Epoch 30, Loss: 4109.0703, Mean: 100.0763, Std: 14.7352\n",
      "Epoch 40, Loss: 4109.0693, Mean: 100.0769, Std: 14.7345\n",
      "Epoch 50, Loss: 4109.0693, Mean: 100.0772, Std: 14.7341\n",
      "Epoch 60, Loss: 4109.0693, Mean: 100.0775, Std: 14.7340\n",
      "Epoch 70, Loss: 4109.0698, Mean: 100.0778, Std: 14.7338\n",
      "Epoch 80, Loss: 4109.0698, Mean: 100.0779, Std: 14.7336\n",
      "Epoch 90, Loss: 4109.0698, Mean: 100.0779, Std: 14.7335\n",
      "Results:\n",
      "Mean: 100.0778, Std: 14.7336\n"
     ]
    }
   ],
   "source": [
    "import numpy as np\n",
    "import tensorflow as tf\n",
    "\n",
    "def gaussian_pdf(x, mean, std):\n",
    "    return (1.0 / (std * np.sqrt(2 * np.pi))) * tf.exp(-0.5 * ((x - mean) / std) ** 2)\n",
    "\n",
    "def mle(num_epochs=100, learning_rate=0.01):\n",
    "    x_train = np.load('x_train.npy')\n",
    "\n",
    "    mean = tf.Variable(np.mean(x_train), dtype=tf.float32)\n",
    "    std = tf.Variable(np.std(x_train), dtype=tf.float32)\n",
    "    \n",
    "    optimizer = tf.optimizers.Adam(learning_rate=learning_rate)\n",
    "\n",
    "    num_epochs = 100\n",
    "\n",
    "    # Treinamento do modelo\n",
    "    print(\"Model train:\")\n",
    "    for epoch in range(num_epochs):\n",
    "        with tf.GradientTape() as tape:\n",
    "            current_loss = -tf.reduce_sum(tf.math.log(gaussian_pdf(x_train, mean, std)))\n",
    "        gradients = tape.gradient(current_loss, [mean, std])\n",
    "        optimizer.apply_gradients(zip(gradients, [mean, std]))\n",
    "\n",
    "        if epoch % (num_epochs/10) == 0:\n",
    "            print(f\"Epoch {epoch}, Loss: {current_loss:.4f}, Mean: {mean.numpy():.4f}, Std: {std.numpy():.4f}\")\n",
    "\n",
    "    print(\"Results:\")\n",
    "    print(f\"Mean: {mean.numpy():.4f}, Std: {std.numpy():.4f}\")\n",
    "    \n",
    "    return np.array([mean.numpy(), std.numpy()])\n",
    "\n",
    "result_np_array = mle()"
   ]
  },
  {
   "cell_type": "code",
   "execution_count": 2,
   "id": "492e3c79",
   "metadata": {
    "deletable": false,
    "editable": false,
    "nbgrader": {
     "cell_type": "code",
     "checksum": "6710bbf701805cfbcf747fbb66ff4aca",
     "grade": true,
     "grade_id": "cell-1a8b5444218a3fb1",
     "locked": true,
     "points": 5,
     "schema_version": 3,
     "solution": false,
     "task": false
    }
   },
   "outputs": [],
   "source": [
    "# Testes ocultos"
   ]
  }
 ],
 "metadata": {
  "kernelspec": {
   "display_name": "Python 3 (ipykernel)",
   "language": "python",
   "name": "python3"
  },
  "language_info": {
   "codemirror_mode": {
    "name": "ipython",
    "version": 3
   },
   "file_extension": ".py",
   "mimetype": "text/x-python",
   "name": "python",
   "nbconvert_exporter": "python",
   "pygments_lexer": "ipython3",
   "version": "3.11.4"
  }
 },
 "nbformat": 4,
 "nbformat_minor": 5
}
